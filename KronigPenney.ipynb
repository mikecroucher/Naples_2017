{
 "cells": [
  {
   "cell_type": "markdown",
   "metadata": {},
   "source": [
    "# Introduction to Bandstructure: Kronig-Penney model of a solid\n",
    "\n",
    "This is a brief demonstration of what is possible in the notebook using a real model in physics. It is not intended to teach the details of the Kronig Penny model. \n",
    "\n",
    "Some things to bear in mind with this notebook:\n",
    "\n",
    "* The notebook is an interactive document. Code is executable.\n",
    "* The notebook is running in a web-browser so the compute kernel could be running anywhere. \n",
    "\n",
    "    * If you had installed [Anaconda Python](https://www.continuum.io/downloads) on your personal machine, for example, the compute kernel might be running there. No internet connection required -- everything would be local -- just like MATLAB or Mathematica.\n",
    "    * You might be running the notebook in [CoCalc](https://cloud.sagemath.com/) in which case the compute kernel would be running on Google's cloud infrastructre.\n",
    "    * Alternatively, you could be running on Microsofts free [Azure Notebook service](https://notebooks.azure.com/)\n",
    "    * You might be using a University HPC Cluster.  Here is the documentation for [The University of Sheffield's installation](http://docs.hpc.shef.ac.uk/en/latest/hpc/jupyterhub.html) \n",
    "\n",
    "* The notebook is fully editable - The text, the code, everything.\n",
    "\n",
    "The notebook allows for several teaching styles.\n",
    "\n",
    "* We could refer the student to the theory in Kittel http://eu.wiley.com/WileyCDA/WileyTitle/productCd-EHEP000803.html\n",
    "\n",
    "![Kittel](http://media.wiley.com/product_data/coverImage300/03/EHEP0008/EHEP000803.jpg)\n",
    "\n",
    "* We could put the full theory here in the notebook. Equations are typeset using a varient of LateX. For example, here is the equation we need to solve to get the band structure of the Kronig-Penney model\n",
    "\n",
    "$$\\frac{\\beta^2-\\alpha^2}{2\\alpha\\beta} \\sinh(\\beta b) \\sin(\\alpha a) - \\cosh(\\beta b)\\cos(\\alpha a) = \\cos(a+b)k$$\n",
    "\n",
    "* We could include a video of a lecture..either locally or on YouTube. Here is a Kronig-Penney video I found on YouTube:\n",
    "\n"
   ]
  },
  {
   "cell_type": "code",
   "execution_count": null,
   "metadata": {
    "scrolled": true
   },
   "outputs": [],
   "source": [
    "from IPython.display import YouTubeVideo\n",
    "YouTubeVideo(\"UhFW_6xhpJA\")"
   ]
  },
  {
   "cell_type": "markdown",
   "metadata": {},
   "source": [
    "We can go a step further and give the students executable code to allow them to calculate the bandstructure themselves. Even if they don't understand the code, they can modify parameters and see what the results might be. \n",
    "\n",
    "If they are using a local install of Jupyter notebook (provided by [Anaconda Python](https://www.continuum.io/downloads) perhaps), the program will be running on their own machine.\n",
    "\n",
    "If they are using SageMathCloud, the code will run in the cloud."
   ]
  },
  {
   "cell_type": "code",
   "execution_count": null,
   "metadata": {},
   "outputs": [],
   "source": [
    "from numpy import abs,arccos,linspace,array,pi\n",
    "from cmath import sqrt,sin,cos,cosh,sinh\n",
    "from scipy import real_if_close\n",
    "import matplotlib.pyplot as plt\n",
    "from ipywidgets import interact\n",
    "%matplotlib inline\n",
    "\n",
    "hbar = 1.05457*10**-34 \n",
    "echarge = 1.602*10**-19\n",
    "emass = 9.109*10**-31 \n",
    "\n",
    "def bandfunc(a,b,energy,v0):\n",
    "    #b is the width of the potential barriers and a is the distance between them\n",
    "    #energy is the value of energy in ElectronVolts that we are solving for\n",
    "    #v0 is the height of the potential barriers in ElectronVolts\n",
    "    if(energy==v0):\n",
    "        return(None)\n",
    "    result = None\n",
    "    energy = energy*echarge\n",
    "    v0 = v0*echarge\n",
    "    b = b*10**-10\n",
    "    a = a*10**-10\n",
    "    \n",
    "    alpha = sqrt((2*emass/hbar**2)*energy)\n",
    "    beta = sqrt(2*emass*(v0-energy)/hbar**2)\n",
    "    AlphaBeta_term = (beta**2 - alpha**2) /(2*alpha*beta)\n",
    "    trace = cos(alpha*a)*cosh(beta*b) + AlphaBeta_term*sin(alpha*a)*sinh(beta*b)\n",
    "    if abs(trace) < 1:\n",
    "        result = real_if_close(arccos(trace))\n",
    "    return(result)\n",
    "    \n",
    "\n",
    "def plotband(v0 = 6,a = 2.5,b = 2.5):\n",
    "    energy_array = linspace(0.1,30,5000)\n",
    "    #Calulate the positive k values\n",
    "    k_vals = array([bandfunc(a,b,energy,v0) for energy in energy_array])\n",
    "    #The negative k-values are just a mirror image of the positive ones\n",
    "    neg_k_vals = array([-k if k is not None else None for k in k_vals])\n",
    "    #generate the plot\n",
    "    plt.plot(k_vals,energy_array,'b');\n",
    "    plt.plot(neg_k_vals,energy_array,'b');\n",
    "    plt.axis([-pi,pi, 0,30])\n",
    "    plt.xlabel('Wavevector k(a+b)')\n",
    "    plt.ylabel('Energy (eV)')\n",
    "\n",
    "plotband(6,2.5,2.5)"
   ]
  },
  {
   "cell_type": "markdown",
   "metadata": {},
   "source": [
    "Alternatively, we can allow the students to interact with the model using sliders. No need for them to modify the code. Note that the calculations are being preformed in real time!"
   ]
  },
  {
   "cell_type": "code",
   "execution_count": null,
   "metadata": {},
   "outputs": [],
   "source": [
    "interact(plotband,\n",
    "         v0=(0,10,0.1),\n",
    "         a=(0,5,0.1),\n",
    "         b=(0,5,0.1),\n",
    "        );"
   ]
  }
 ],
 "metadata": {
  "kernelspec": {
   "display_name": "Python 3",
   "language": "python",
   "name": "python3"
  },
  "language_info": {
   "codemirror_mode": {
    "name": "ipython",
    "version": 3
   },
   "file_extension": ".py",
   "mimetype": "text/x-python",
   "name": "python",
   "nbconvert_exporter": "python",
   "pygments_lexer": "ipython3",
   "version": "3.6.1"
  }
 },
 "nbformat": 4,
 "nbformat_minor": 1
}
